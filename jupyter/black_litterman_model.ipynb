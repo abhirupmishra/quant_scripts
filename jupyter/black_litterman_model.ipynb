{
 "cells": [
  {
   "cell_type": "markdown",
   "metadata": {
    "collapsed": true,
    "pycharm": {
     "name": "#%% md\n"
    }
   },
   "source": [
    "# Black Litterman Model"
   ]
  },
  {
   "cell_type": "code",
   "execution_count": 1,
   "outputs": [],
   "source": [
    "import warnings\n",
    "warnings.filterwarnings('ignore')\n",
    "\n",
    "import numpy as np\n",
    "import pandas as pd"
   ],
   "metadata": {
    "collapsed": false,
    "pycharm": {
     "name": "#%%\n"
    }
   }
  },
  {
   "cell_type": "code",
   "execution_count": 5,
   "outputs": [],
   "source": [
    "data = pd.read_csv(\"../data/bl_excess_returns_data.csv\")"
   ],
   "metadata": {
    "collapsed": false,
    "pycharm": {
     "name": "#%%\n"
    }
   }
  },
  {
   "cell_type": "code",
   "execution_count": 21,
   "outputs": [
    {
     "data": {
      "text/plain": "matrix([[0.5],\n        [0.4],\n        [0.1]])"
     },
     "execution_count": 21,
     "metadata": {},
     "output_type": "execute_result"
    }
   ],
   "source": [
    "market_weights = np.matrix([[0.5 ], [ 0.4], [ 0.1 ]])\n",
    "\n",
    "cols = ['US Equity', 'Foreign EQ', 'Emerging EQ']\n",
    "covariance = data[cols].cov().to_numpy()\n",
    "market_weights"
   ],
   "metadata": {
    "collapsed": false,
    "pycharm": {
     "name": "#%%\n"
    }
   }
  },
  {
   "cell_type": "code",
   "execution_count": 11,
   "outputs": [],
   "source": [
    "risk_aversion = 2.0\n",
    "tau = 0.05\n",
    "market_variance = float(np.matmul(market_weights.T, np.matmul(covariance, market_weights)))\n",
    "std_dev = np.sqrt(market_variance)\n",
    "\n",
    "market_expected_excess_returns = risk_aversion * market_variance\n",
    "\n",
    "sharp_ratio = market_expected_excess_returns/std_dev\n",
    "\n",
    "prior_returns = risk_aversion * np.matmul ( covariance , market_weights)\n",
    "\n",
    "#covariance * tau\n",
    "covtau = tau * covariance"
   ],
   "metadata": {
    "collapsed": false,
    "pycharm": {
     "name": "#%%\n"
    }
   }
  },
  {
   "cell_type": "code",
   "execution_count": 12,
   "outputs": [],
   "source": [
    "view = np.array([[1, 0, 0], [0, 1, -1]])\n",
    "relative_confidence = 1  # = conf. in view / conf. in prior\n",
    "tau_omega = tau/relative_confidence\n",
    "omega = tau_omega*np.matmul(view,np.matmul(covariance , view.T) )\n",
    "Q = [[0.015], [0.030]]\n",
    "\n",
    "diagOmega = np.diag(np.diag (omega))\n",
    "prior_precision = np.matmul(view, np.matmul(tau * covariance , view.T))"
   ],
   "metadata": {
    "collapsed": false,
    "pycharm": {
     "name": "#%%\n"
    }
   }
  },
  {
   "cell_type": "code",
   "execution_count": 13,
   "outputs": [],
   "source": [
    "posterior_returns = prior_returns + np.matmul(np.matmul(covtau, np.matmul(view.T, np.linalg.inv(prior_precision + omega))), Q-np.matmul(view, prior_returns))\n",
    "\n",
    "posterior_return_dist = covariance + (covtau - np.matmul(np.matmul(np.matmul(covtau,view.T),np.linalg.inv(prior_precision+omega)),np.matmul(view, covtau)))"
   ],
   "metadata": {
    "collapsed": false,
    "pycharm": {
     "name": "#%%\n"
    }
   }
  },
  {
   "cell_type": "markdown",
   "source": [
    "## Portfolio Optimization"
   ],
   "metadata": {
    "collapsed": false,
    "pycharm": {
     "name": "#%% md\n"
    }
   }
  },
  {
   "cell_type": "code",
   "execution_count": 17,
   "outputs": [],
   "source": [
    "unconstrained_opt = np.matmul( np.matrix(posterior_returns).T, np.linalg.inv(risk_aversion * posterior_return_dist))\n",
    "# summing the values of unconstrained to use for constrained\n",
    "opt_sum = unconstrained_opt.sum(dtype = 'float')\n",
    "opt_weight = np.matrix( unconstrained_opt / opt_sum).T\n",
    "expected_returns_opt = float( np.matmul( np.matrix(posterior_returns).T, opt_weight) )\n",
    "variance_opt =float(np.matmul( np.matmul (opt_weight.T , posterior_return_dist), opt_weight))\n",
    "std_dev_opt = np.sqrt(variance_opt)\n",
    "sharpe_ratio_opt = expected_returns_opt/std_dev_opt"
   ],
   "metadata": {
    "collapsed": false,
    "pycharm": {
     "name": "#%%\n"
    }
   }
  },
  {
   "cell_type": "code",
   "execution_count": null,
   "outputs": [],
   "source": [],
   "metadata": {
    "collapsed": false,
    "pycharm": {
     "name": "#%%\n"
    }
   }
  }
 ],
 "metadata": {
  "kernelspec": {
   "display_name": "Python 3",
   "language": "python",
   "name": "python3"
  },
  "language_info": {
   "codemirror_mode": {
    "name": "ipython",
    "version": 2
   },
   "file_extension": ".py",
   "mimetype": "text/x-python",
   "name": "python",
   "nbconvert_exporter": "python",
   "pygments_lexer": "ipython2",
   "version": "2.7.6"
  }
 },
 "nbformat": 4,
 "nbformat_minor": 0
}