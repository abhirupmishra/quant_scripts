{
 "cells": [
  {
   "cell_type": "code",
   "execution_count": 1,
   "metadata": {
    "collapsed": true
   },
   "outputs": [],
   "source": [
    "%matplotlib inline\n",
    "\n",
    "from numpy import nan\n",
    "from pandas import (DataFrame, date_range)\n",
    "import matplotlib.pyplot as plt\n",
    "\n",
    "from alphalens.tears import create_returns_tear_sheet, create_information_tear_sheet, \\\n",
    "    create_turnover_tear_sheet, create_summary_tear_sheet, create_full_tear_sheet, \\\n",
    "    create_event_returns_tear_sheet, create_event_study_tear_sheet\n",
    "\n",
    "from alphalens.utils import get_clean_factor_and_forward_returns"
   ]
  },
  {
   "cell_type": "code",
   "execution_count": 11,
   "outputs": [],
   "source": [
    "#\n",
    "# build price\n",
    "#\n",
    "price_index = date_range(start='2015-1-10', end='2015-2-28')\n",
    "price_index.name = 'date'\n",
    "tickers = ['A', 'B', 'C', 'D', 'E', 'F']\n",
    "data = [[1.0025**i, 1.005**i, 1.00**i, 0.995**i, 1.005**i, 1.00**i]\n",
    "        for i in range(1, 51)]\n",
    "prices = DataFrame(index=price_index, columns=tickers, data=data)\n",
    "\n",
    "#\n",
    "# build factor\n",
    "#\n",
    "factor_index = date_range(start='2015-1-15', end='2015-2-13')\n",
    "factor_index.name = 'date'\n",
    "factor = DataFrame(index=factor_index, columns=tickers,\n",
    "                   data=[[3, 4, 2, 1, nan, nan], [3, nan, nan, 1, 4, 2],\n",
    "                         [3, 4, 2, 1, nan, nan], [3, 4, 2, 1, nan, nan],\n",
    "                         [3, 4, 2, 1, nan, nan], [3, 4, 2, 1, nan, nan],\n",
    "                         [3, nan, nan, 1, 4, 2], [3, nan, nan, 1, 4, 2],\n",
    "                         [3, 4, 2, 1, nan, nan], [3, 4, 2, 1, nan, nan],\n",
    "                         [3, nan, nan, 1, 4, 2], [3, nan, nan, 1, 4, 2],\n",
    "                         [3, nan, nan, 1, 4, 2], [3, nan, nan, 1, 4, 2],\n",
    "                         [3, nan, nan, 1, 4, 2], [3, nan, nan, 1, 4, 2],\n",
    "                         [3, nan, nan, 1, 4, 2], [3, nan, nan, 1, 4, 2],\n",
    "                         [3, nan, nan, 1, 4, 2], [3, nan, nan, 1, 4, 2],\n",
    "                         [3, 4, 2, 1, nan, nan], [3, 4, 2, 1, nan, nan],\n",
    "                         [3, 4, 2, 1, nan, nan], [3, 4, 2, 1, nan, nan],\n",
    "                         [3, 4, 2, 1, nan, nan], [3, 4, 2, 1, nan, nan],\n",
    "                         [3, 4, 2, 1, nan, nan], [3, 4, 2, 1, nan, nan],\n",
    "                         [3, nan, nan, 1, 4, 2], [3, nan, nan, 1, 4, 2]]).stack()\n",
    "factor_groups = {'A': 'Group1', 'B': 'Group2', 'C': 'Group1', 'D': 'Group2', 'E': 'Group1', 'F': 'Group2'}"
   ],
   "metadata": {
    "collapsed": false,
    "pycharm": {
     "name": "#%%\n"
    }
   }
  },
  {
   "cell_type": "code",
   "execution_count": 12,
   "outputs": [
    {
     "data": {
      "text/plain": "date         \n2015-01-15  A    3.0\n            B    4.0\n            C    2.0\n            D    1.0\n2015-01-16  A    3.0\n                ... \n2015-02-12  F    2.0\n2015-02-13  A    3.0\n            D    1.0\n            E    4.0\n            F    2.0\nLength: 120, dtype: float64"
     },
     "execution_count": 12,
     "metadata": {},
     "output_type": "execute_result"
    }
   ],
   "source": [
    "factor"
   ],
   "metadata": {
    "collapsed": false,
    "pycharm": {
     "name": "#%%\n"
    }
   }
  },
  {
   "cell_type": "code",
   "execution_count": 4,
   "outputs": [
    {
     "data": {
      "text/plain": "                   A         B    C         D         E    F\ndate                                                        \n2015-01-10  1.002500  1.005000  1.0  0.995000  1.005000  1.0\n2015-01-11  1.005006  1.010025  1.0  0.990025  1.010025  1.0\n2015-01-12  1.007519  1.015075  1.0  0.985075  1.015075  1.0\n2015-01-13  1.010038  1.020151  1.0  0.980150  1.020151  1.0\n2015-01-14  1.012563  1.025251  1.0  0.975249  1.025251  1.0\n2015-01-15  1.015094  1.030378  1.0  0.970373  1.030378  1.0\n2015-01-16  1.017632  1.035529  1.0  0.965521  1.035529  1.0\n2015-01-17  1.020176  1.040707  1.0  0.960693  1.040707  1.0\n2015-01-18  1.022726  1.045911  1.0  0.955890  1.045911  1.0\n2015-01-19  1.025283  1.051140  1.0  0.951110  1.051140  1.0\n2015-01-20  1.027846  1.056396  1.0  0.946355  1.056396  1.0\n2015-01-21  1.030416  1.061678  1.0  0.941623  1.061678  1.0\n2015-01-22  1.032992  1.066986  1.0  0.936915  1.066986  1.0\n2015-01-23  1.035574  1.072321  1.0  0.932230  1.072321  1.0\n2015-01-24  1.038163  1.077683  1.0  0.927569  1.077683  1.0\n2015-01-25  1.040759  1.083071  1.0  0.922931  1.083071  1.0\n2015-01-26  1.043361  1.088487  1.0  0.918316  1.088487  1.0\n2015-01-27  1.045969  1.093929  1.0  0.913725  1.093929  1.0\n2015-01-28  1.048584  1.099399  1.0  0.909156  1.099399  1.0\n2015-01-29  1.051206  1.104896  1.0  0.904610  1.104896  1.0\n2015-01-30  1.053834  1.110420  1.0  0.900087  1.110420  1.0\n2015-01-31  1.056468  1.115972  1.0  0.895587  1.115972  1.0\n2015-02-01  1.059109  1.121552  1.0  0.891109  1.121552  1.0\n2015-02-02  1.061757  1.127160  1.0  0.886654  1.127160  1.0\n2015-02-03  1.064411  1.132796  1.0  0.882220  1.132796  1.0\n2015-02-04  1.067072  1.138460  1.0  0.877809  1.138460  1.0\n2015-02-05  1.069740  1.144152  1.0  0.873420  1.144152  1.0\n2015-02-06  1.072414  1.149873  1.0  0.869053  1.149873  1.0\n2015-02-07  1.075096  1.155622  1.0  0.864708  1.155622  1.0\n2015-02-08  1.077783  1.161400  1.0  0.860384  1.161400  1.0\n2015-02-09  1.080478  1.167207  1.0  0.856082  1.167207  1.0\n2015-02-10  1.083179  1.173043  1.0  0.851802  1.173043  1.0\n2015-02-11  1.085887  1.178908  1.0  0.847543  1.178908  1.0\n2015-02-12  1.088602  1.184803  1.0  0.843305  1.184803  1.0\n2015-02-13  1.091323  1.190727  1.0  0.839089  1.190727  1.0\n2015-02-14  1.094051  1.196681  1.0  0.834893  1.196681  1.0\n2015-02-15  1.096787  1.202664  1.0  0.830719  1.202664  1.0\n2015-02-16  1.099528  1.208677  1.0  0.826565  1.208677  1.0\n2015-02-17  1.102277  1.214721  1.0  0.822432  1.214721  1.0\n2015-02-18  1.105033  1.220794  1.0  0.818320  1.220794  1.0\n2015-02-19  1.107796  1.226898  1.0  0.814229  1.226898  1.0\n2015-02-20  1.110565  1.233033  1.0  0.810157  1.233033  1.0\n2015-02-21  1.113341  1.239198  1.0  0.806107  1.239198  1.0\n2015-02-22  1.116125  1.245394  1.0  0.802076  1.245394  1.0\n2015-02-23  1.118915  1.251621  1.0  0.798066  1.251621  1.0\n2015-02-24  1.121712  1.257879  1.0  0.794075  1.257879  1.0\n2015-02-25  1.124517  1.264168  1.0  0.790105  1.264168  1.0\n2015-02-26  1.127328  1.270489  1.0  0.786154  1.270489  1.0\n2015-02-27  1.130146  1.276842  1.0  0.782224  1.276842  1.0\n2015-02-28  1.132972  1.283226  1.0  0.778313  1.283226  1.0",
      "text/html": "<div>\n<style scoped>\n    .dataframe tbody tr th:only-of-type {\n        vertical-align: middle;\n    }\n\n    .dataframe tbody tr th {\n        vertical-align: top;\n    }\n\n    .dataframe thead th {\n        text-align: right;\n    }\n</style>\n<table border=\"1\" class=\"dataframe\">\n  <thead>\n    <tr style=\"text-align: right;\">\n      <th></th>\n      <th>A</th>\n      <th>B</th>\n      <th>C</th>\n      <th>D</th>\n      <th>E</th>\n      <th>F</th>\n    </tr>\n    <tr>\n      <th>date</th>\n      <th></th>\n      <th></th>\n      <th></th>\n      <th></th>\n      <th></th>\n      <th></th>\n    </tr>\n  </thead>\n  <tbody>\n    <tr>\n      <th>2015-01-10</th>\n      <td>1.002500</td>\n      <td>1.005000</td>\n      <td>1.0</td>\n      <td>0.995000</td>\n      <td>1.005000</td>\n      <td>1.0</td>\n    </tr>\n    <tr>\n      <th>2015-01-11</th>\n      <td>1.005006</td>\n      <td>1.010025</td>\n      <td>1.0</td>\n      <td>0.990025</td>\n      <td>1.010025</td>\n      <td>1.0</td>\n    </tr>\n    <tr>\n      <th>2015-01-12</th>\n      <td>1.007519</td>\n      <td>1.015075</td>\n      <td>1.0</td>\n      <td>0.985075</td>\n      <td>1.015075</td>\n      <td>1.0</td>\n    </tr>\n    <tr>\n      <th>2015-01-13</th>\n      <td>1.010038</td>\n      <td>1.020151</td>\n      <td>1.0</td>\n      <td>0.980150</td>\n      <td>1.020151</td>\n      <td>1.0</td>\n    </tr>\n    <tr>\n      <th>2015-01-14</th>\n      <td>1.012563</td>\n      <td>1.025251</td>\n      <td>1.0</td>\n      <td>0.975249</td>\n      <td>1.025251</td>\n      <td>1.0</td>\n    </tr>\n    <tr>\n      <th>2015-01-15</th>\n      <td>1.015094</td>\n      <td>1.030378</td>\n      <td>1.0</td>\n      <td>0.970373</td>\n      <td>1.030378</td>\n      <td>1.0</td>\n    </tr>\n    <tr>\n      <th>2015-01-16</th>\n      <td>1.017632</td>\n      <td>1.035529</td>\n      <td>1.0</td>\n      <td>0.965521</td>\n      <td>1.035529</td>\n      <td>1.0</td>\n    </tr>\n    <tr>\n      <th>2015-01-17</th>\n      <td>1.020176</td>\n      <td>1.040707</td>\n      <td>1.0</td>\n      <td>0.960693</td>\n      <td>1.040707</td>\n      <td>1.0</td>\n    </tr>\n    <tr>\n      <th>2015-01-18</th>\n      <td>1.022726</td>\n      <td>1.045911</td>\n      <td>1.0</td>\n      <td>0.955890</td>\n      <td>1.045911</td>\n      <td>1.0</td>\n    </tr>\n    <tr>\n      <th>2015-01-19</th>\n      <td>1.025283</td>\n      <td>1.051140</td>\n      <td>1.0</td>\n      <td>0.951110</td>\n      <td>1.051140</td>\n      <td>1.0</td>\n    </tr>\n    <tr>\n      <th>2015-01-20</th>\n      <td>1.027846</td>\n      <td>1.056396</td>\n      <td>1.0</td>\n      <td>0.946355</td>\n      <td>1.056396</td>\n      <td>1.0</td>\n    </tr>\n    <tr>\n      <th>2015-01-21</th>\n      <td>1.030416</td>\n      <td>1.061678</td>\n      <td>1.0</td>\n      <td>0.941623</td>\n      <td>1.061678</td>\n      <td>1.0</td>\n    </tr>\n    <tr>\n      <th>2015-01-22</th>\n      <td>1.032992</td>\n      <td>1.066986</td>\n      <td>1.0</td>\n      <td>0.936915</td>\n      <td>1.066986</td>\n      <td>1.0</td>\n    </tr>\n    <tr>\n      <th>2015-01-23</th>\n      <td>1.035574</td>\n      <td>1.072321</td>\n      <td>1.0</td>\n      <td>0.932230</td>\n      <td>1.072321</td>\n      <td>1.0</td>\n    </tr>\n    <tr>\n      <th>2015-01-24</th>\n      <td>1.038163</td>\n      <td>1.077683</td>\n      <td>1.0</td>\n      <td>0.927569</td>\n      <td>1.077683</td>\n      <td>1.0</td>\n    </tr>\n    <tr>\n      <th>2015-01-25</th>\n      <td>1.040759</td>\n      <td>1.083071</td>\n      <td>1.0</td>\n      <td>0.922931</td>\n      <td>1.083071</td>\n      <td>1.0</td>\n    </tr>\n    <tr>\n      <th>2015-01-26</th>\n      <td>1.043361</td>\n      <td>1.088487</td>\n      <td>1.0</td>\n      <td>0.918316</td>\n      <td>1.088487</td>\n      <td>1.0</td>\n    </tr>\n    <tr>\n      <th>2015-01-27</th>\n      <td>1.045969</td>\n      <td>1.093929</td>\n      <td>1.0</td>\n      <td>0.913725</td>\n      <td>1.093929</td>\n      <td>1.0</td>\n    </tr>\n    <tr>\n      <th>2015-01-28</th>\n      <td>1.048584</td>\n      <td>1.099399</td>\n      <td>1.0</td>\n      <td>0.909156</td>\n      <td>1.099399</td>\n      <td>1.0</td>\n    </tr>\n    <tr>\n      <th>2015-01-29</th>\n      <td>1.051206</td>\n      <td>1.104896</td>\n      <td>1.0</td>\n      <td>0.904610</td>\n      <td>1.104896</td>\n      <td>1.0</td>\n    </tr>\n    <tr>\n      <th>2015-01-30</th>\n      <td>1.053834</td>\n      <td>1.110420</td>\n      <td>1.0</td>\n      <td>0.900087</td>\n      <td>1.110420</td>\n      <td>1.0</td>\n    </tr>\n    <tr>\n      <th>2015-01-31</th>\n      <td>1.056468</td>\n      <td>1.115972</td>\n      <td>1.0</td>\n      <td>0.895587</td>\n      <td>1.115972</td>\n      <td>1.0</td>\n    </tr>\n    <tr>\n      <th>2015-02-01</th>\n      <td>1.059109</td>\n      <td>1.121552</td>\n      <td>1.0</td>\n      <td>0.891109</td>\n      <td>1.121552</td>\n      <td>1.0</td>\n    </tr>\n    <tr>\n      <th>2015-02-02</th>\n      <td>1.061757</td>\n      <td>1.127160</td>\n      <td>1.0</td>\n      <td>0.886654</td>\n      <td>1.127160</td>\n      <td>1.0</td>\n    </tr>\n    <tr>\n      <th>2015-02-03</th>\n      <td>1.064411</td>\n      <td>1.132796</td>\n      <td>1.0</td>\n      <td>0.882220</td>\n      <td>1.132796</td>\n      <td>1.0</td>\n    </tr>\n    <tr>\n      <th>2015-02-04</th>\n      <td>1.067072</td>\n      <td>1.138460</td>\n      <td>1.0</td>\n      <td>0.877809</td>\n      <td>1.138460</td>\n      <td>1.0</td>\n    </tr>\n    <tr>\n      <th>2015-02-05</th>\n      <td>1.069740</td>\n      <td>1.144152</td>\n      <td>1.0</td>\n      <td>0.873420</td>\n      <td>1.144152</td>\n      <td>1.0</td>\n    </tr>\n    <tr>\n      <th>2015-02-06</th>\n      <td>1.072414</td>\n      <td>1.149873</td>\n      <td>1.0</td>\n      <td>0.869053</td>\n      <td>1.149873</td>\n      <td>1.0</td>\n    </tr>\n    <tr>\n      <th>2015-02-07</th>\n      <td>1.075096</td>\n      <td>1.155622</td>\n      <td>1.0</td>\n      <td>0.864708</td>\n      <td>1.155622</td>\n      <td>1.0</td>\n    </tr>\n    <tr>\n      <th>2015-02-08</th>\n      <td>1.077783</td>\n      <td>1.161400</td>\n      <td>1.0</td>\n      <td>0.860384</td>\n      <td>1.161400</td>\n      <td>1.0</td>\n    </tr>\n    <tr>\n      <th>2015-02-09</th>\n      <td>1.080478</td>\n      <td>1.167207</td>\n      <td>1.0</td>\n      <td>0.856082</td>\n      <td>1.167207</td>\n      <td>1.0</td>\n    </tr>\n    <tr>\n      <th>2015-02-10</th>\n      <td>1.083179</td>\n      <td>1.173043</td>\n      <td>1.0</td>\n      <td>0.851802</td>\n      <td>1.173043</td>\n      <td>1.0</td>\n    </tr>\n    <tr>\n      <th>2015-02-11</th>\n      <td>1.085887</td>\n      <td>1.178908</td>\n      <td>1.0</td>\n      <td>0.847543</td>\n      <td>1.178908</td>\n      <td>1.0</td>\n    </tr>\n    <tr>\n      <th>2015-02-12</th>\n      <td>1.088602</td>\n      <td>1.184803</td>\n      <td>1.0</td>\n      <td>0.843305</td>\n      <td>1.184803</td>\n      <td>1.0</td>\n    </tr>\n    <tr>\n      <th>2015-02-13</th>\n      <td>1.091323</td>\n      <td>1.190727</td>\n      <td>1.0</td>\n      <td>0.839089</td>\n      <td>1.190727</td>\n      <td>1.0</td>\n    </tr>\n    <tr>\n      <th>2015-02-14</th>\n      <td>1.094051</td>\n      <td>1.196681</td>\n      <td>1.0</td>\n      <td>0.834893</td>\n      <td>1.196681</td>\n      <td>1.0</td>\n    </tr>\n    <tr>\n      <th>2015-02-15</th>\n      <td>1.096787</td>\n      <td>1.202664</td>\n      <td>1.0</td>\n      <td>0.830719</td>\n      <td>1.202664</td>\n      <td>1.0</td>\n    </tr>\n    <tr>\n      <th>2015-02-16</th>\n      <td>1.099528</td>\n      <td>1.208677</td>\n      <td>1.0</td>\n      <td>0.826565</td>\n      <td>1.208677</td>\n      <td>1.0</td>\n    </tr>\n    <tr>\n      <th>2015-02-17</th>\n      <td>1.102277</td>\n      <td>1.214721</td>\n      <td>1.0</td>\n      <td>0.822432</td>\n      <td>1.214721</td>\n      <td>1.0</td>\n    </tr>\n    <tr>\n      <th>2015-02-18</th>\n      <td>1.105033</td>\n      <td>1.220794</td>\n      <td>1.0</td>\n      <td>0.818320</td>\n      <td>1.220794</td>\n      <td>1.0</td>\n    </tr>\n    <tr>\n      <th>2015-02-19</th>\n      <td>1.107796</td>\n      <td>1.226898</td>\n      <td>1.0</td>\n      <td>0.814229</td>\n      <td>1.226898</td>\n      <td>1.0</td>\n    </tr>\n    <tr>\n      <th>2015-02-20</th>\n      <td>1.110565</td>\n      <td>1.233033</td>\n      <td>1.0</td>\n      <td>0.810157</td>\n      <td>1.233033</td>\n      <td>1.0</td>\n    </tr>\n    <tr>\n      <th>2015-02-21</th>\n      <td>1.113341</td>\n      <td>1.239198</td>\n      <td>1.0</td>\n      <td>0.806107</td>\n      <td>1.239198</td>\n      <td>1.0</td>\n    </tr>\n    <tr>\n      <th>2015-02-22</th>\n      <td>1.116125</td>\n      <td>1.245394</td>\n      <td>1.0</td>\n      <td>0.802076</td>\n      <td>1.245394</td>\n      <td>1.0</td>\n    </tr>\n    <tr>\n      <th>2015-02-23</th>\n      <td>1.118915</td>\n      <td>1.251621</td>\n      <td>1.0</td>\n      <td>0.798066</td>\n      <td>1.251621</td>\n      <td>1.0</td>\n    </tr>\n    <tr>\n      <th>2015-02-24</th>\n      <td>1.121712</td>\n      <td>1.257879</td>\n      <td>1.0</td>\n      <td>0.794075</td>\n      <td>1.257879</td>\n      <td>1.0</td>\n    </tr>\n    <tr>\n      <th>2015-02-25</th>\n      <td>1.124517</td>\n      <td>1.264168</td>\n      <td>1.0</td>\n      <td>0.790105</td>\n      <td>1.264168</td>\n      <td>1.0</td>\n    </tr>\n    <tr>\n      <th>2015-02-26</th>\n      <td>1.127328</td>\n      <td>1.270489</td>\n      <td>1.0</td>\n      <td>0.786154</td>\n      <td>1.270489</td>\n      <td>1.0</td>\n    </tr>\n    <tr>\n      <th>2015-02-27</th>\n      <td>1.130146</td>\n      <td>1.276842</td>\n      <td>1.0</td>\n      <td>0.782224</td>\n      <td>1.276842</td>\n      <td>1.0</td>\n    </tr>\n    <tr>\n      <th>2015-02-28</th>\n      <td>1.132972</td>\n      <td>1.283226</td>\n      <td>1.0</td>\n      <td>0.778313</td>\n      <td>1.283226</td>\n      <td>1.0</td>\n    </tr>\n  </tbody>\n</table>\n</div>"
     },
     "execution_count": 4,
     "metadata": {},
     "output_type": "execute_result"
    }
   ],
   "source": [
    "prices"
   ],
   "metadata": {
    "collapsed": false,
    "pycharm": {
     "name": "#%%\n"
    }
   }
  },
  {
   "cell_type": "code",
   "execution_count": 13,
   "outputs": [
    {
     "data": {
      "text/plain": "FrozenList(['date', None])"
     },
     "execution_count": 13,
     "metadata": {},
     "output_type": "execute_result"
    }
   ],
   "source": [
    "factor.index.na"
   ],
   "metadata": {
    "collapsed": false,
    "pycharm": {
     "name": "#%%\n"
    }
   }
  },
  {
   "cell_type": "code",
   "execution_count": 6,
   "outputs": [
    {
     "name": "stdout",
     "output_type": "stream",
     "text": [
      "Dropped 0.0% entries from factor data: 0.0% in forward returns computation and 0.0% in binning phase (set max_loss=0 to see potentially suppressed Exceptions).\n",
      "max_loss is 35.0%, not exceeded: OK!\n"
     ]
    }
   ],
   "source": [
    "factor_data = get_clean_factor_and_forward_returns(\n",
    "    factor,\n",
    "    prices,\n",
    "    groupby=factor_groups,\n",
    "    quantiles=4,\n",
    "    periods=(1, 3),\n",
    "    filter_zscore=None)"
   ],
   "metadata": {
    "collapsed": false,
    "pycharm": {
     "name": "#%%\n"
    }
   }
  },
  {
   "cell_type": "code",
   "execution_count": 7,
   "outputs": [
    {
     "data": {
      "text/plain": "                      1D        3D  factor   group  factor_quantile\ndate       asset                                                   \n2015-01-15 A      0.0025  0.007519     3.0  Group1                3\n           B      0.0050  0.015075     4.0  Group2                4\n           C      0.0000  0.000000     2.0  Group1                2\n           D     -0.0050 -0.014925     1.0  Group2                1\n2015-01-16 A      0.0025  0.007519     3.0  Group1                3\n           D     -0.0050 -0.014925     1.0  Group2                1\n           E      0.0050  0.015075     4.0  Group1                4\n           F      0.0000  0.000000     2.0  Group2                2\n2015-01-17 A      0.0025  0.007519     3.0  Group1                3\n           B      0.0050  0.015075     4.0  Group2                4",
      "text/html": "<div>\n<style scoped>\n    .dataframe tbody tr th:only-of-type {\n        vertical-align: middle;\n    }\n\n    .dataframe tbody tr th {\n        vertical-align: top;\n    }\n\n    .dataframe thead th {\n        text-align: right;\n    }\n</style>\n<table border=\"1\" class=\"dataframe\">\n  <thead>\n    <tr style=\"text-align: right;\">\n      <th></th>\n      <th></th>\n      <th>1D</th>\n      <th>3D</th>\n      <th>factor</th>\n      <th>group</th>\n      <th>factor_quantile</th>\n    </tr>\n    <tr>\n      <th>date</th>\n      <th>asset</th>\n      <th></th>\n      <th></th>\n      <th></th>\n      <th></th>\n      <th></th>\n    </tr>\n  </thead>\n  <tbody>\n    <tr>\n      <th rowspan=\"4\" valign=\"top\">2015-01-15</th>\n      <th>A</th>\n      <td>0.0025</td>\n      <td>0.007519</td>\n      <td>3.0</td>\n      <td>Group1</td>\n      <td>3</td>\n    </tr>\n    <tr>\n      <th>B</th>\n      <td>0.0050</td>\n      <td>0.015075</td>\n      <td>4.0</td>\n      <td>Group2</td>\n      <td>4</td>\n    </tr>\n    <tr>\n      <th>C</th>\n      <td>0.0000</td>\n      <td>0.000000</td>\n      <td>2.0</td>\n      <td>Group1</td>\n      <td>2</td>\n    </tr>\n    <tr>\n      <th>D</th>\n      <td>-0.0050</td>\n      <td>-0.014925</td>\n      <td>1.0</td>\n      <td>Group2</td>\n      <td>1</td>\n    </tr>\n    <tr>\n      <th rowspan=\"4\" valign=\"top\">2015-01-16</th>\n      <th>A</th>\n      <td>0.0025</td>\n      <td>0.007519</td>\n      <td>3.0</td>\n      <td>Group1</td>\n      <td>3</td>\n    </tr>\n    <tr>\n      <th>D</th>\n      <td>-0.0050</td>\n      <td>-0.014925</td>\n      <td>1.0</td>\n      <td>Group2</td>\n      <td>1</td>\n    </tr>\n    <tr>\n      <th>E</th>\n      <td>0.0050</td>\n      <td>0.015075</td>\n      <td>4.0</td>\n      <td>Group1</td>\n      <td>4</td>\n    </tr>\n    <tr>\n      <th>F</th>\n      <td>0.0000</td>\n      <td>0.000000</td>\n      <td>2.0</td>\n      <td>Group2</td>\n      <td>2</td>\n    </tr>\n    <tr>\n      <th rowspan=\"2\" valign=\"top\">2015-01-17</th>\n      <th>A</th>\n      <td>0.0025</td>\n      <td>0.007519</td>\n      <td>3.0</td>\n      <td>Group1</td>\n      <td>3</td>\n    </tr>\n    <tr>\n      <th>B</th>\n      <td>0.0050</td>\n      <td>0.015075</td>\n      <td>4.0</td>\n      <td>Group2</td>\n      <td>4</td>\n    </tr>\n  </tbody>\n</table>\n</div>"
     },
     "execution_count": 7,
     "metadata": {},
     "output_type": "execute_result"
    }
   ],
   "source": [
    "factor_data.head(10)"
   ],
   "metadata": {
    "collapsed": false,
    "pycharm": {
     "name": "#%%\n"
    }
   }
  },
  {
   "cell_type": "code",
   "execution_count": 8,
   "outputs": [],
   "source": [
    "from alphalens.performance import factor_information_coefficient, mean_return_by_quantile"
   ],
   "metadata": {
    "collapsed": false,
    "pycharm": {
     "name": "#%%\n"
    }
   }
  },
  {
   "cell_type": "code",
   "execution_count": 9,
   "outputs": [
    {
     "data": {
      "text/plain": "                    1D   3D\ndate       group           \n2015-01-15 Group1  1.0  1.0\n           Group2  1.0  1.0\n2015-01-16 Group1  1.0  1.0\n           Group2  1.0  1.0\n2015-01-17 Group1  1.0  1.0\n           Group2  1.0  1.0\n2015-01-18 Group1  1.0  1.0\n           Group2  1.0  1.0\n2015-01-19 Group1  1.0  1.0\n           Group2  1.0  1.0\n2015-01-20 Group1  1.0  1.0\n           Group2  1.0  1.0\n2015-01-21 Group1  1.0  1.0\n           Group2  1.0  1.0\n2015-01-22 Group1  1.0  1.0\n           Group2  1.0  1.0\n2015-01-23 Group1  1.0  1.0\n           Group2  1.0  1.0\n2015-01-24 Group1  1.0  1.0\n           Group2  1.0  1.0\n2015-01-25 Group1  1.0  1.0\n           Group2  1.0  1.0\n2015-01-26 Group1  1.0  1.0\n           Group2  1.0  1.0\n2015-01-27 Group1  1.0  1.0\n           Group2  1.0  1.0\n2015-01-28 Group1  1.0  1.0\n           Group2  1.0  1.0\n2015-01-29 Group1  1.0  1.0\n           Group2  1.0  1.0\n2015-01-30 Group1  1.0  1.0\n           Group2  1.0  1.0\n2015-01-31 Group1  1.0  1.0\n           Group2  1.0  1.0\n2015-02-01 Group1  1.0  1.0\n           Group2  1.0  1.0\n2015-02-02 Group1  1.0  1.0\n           Group2  1.0  1.0\n2015-02-03 Group1  1.0  1.0\n           Group2  1.0  1.0\n2015-02-04 Group1  1.0  1.0\n           Group2  1.0  1.0\n2015-02-05 Group1  1.0  1.0\n           Group2  1.0  1.0\n2015-02-06 Group1  1.0  1.0\n           Group2  1.0  1.0\n2015-02-07 Group1  1.0  1.0\n           Group2  1.0  1.0\n2015-02-08 Group1  1.0  1.0\n           Group2  1.0  1.0\n2015-02-09 Group1  1.0  1.0\n           Group2  1.0  1.0\n2015-02-10 Group1  1.0  1.0\n           Group2  1.0  1.0\n2015-02-11 Group1  1.0  1.0\n           Group2  1.0  1.0\n2015-02-12 Group1  1.0  1.0\n           Group2  1.0  1.0\n2015-02-13 Group1  1.0  1.0\n           Group2  1.0  1.0",
      "text/html": "<div>\n<style scoped>\n    .dataframe tbody tr th:only-of-type {\n        vertical-align: middle;\n    }\n\n    .dataframe tbody tr th {\n        vertical-align: top;\n    }\n\n    .dataframe thead th {\n        text-align: right;\n    }\n</style>\n<table border=\"1\" class=\"dataframe\">\n  <thead>\n    <tr style=\"text-align: right;\">\n      <th></th>\n      <th></th>\n      <th>1D</th>\n      <th>3D</th>\n    </tr>\n    <tr>\n      <th>date</th>\n      <th>group</th>\n      <th></th>\n      <th></th>\n    </tr>\n  </thead>\n  <tbody>\n    <tr>\n      <th rowspan=\"2\" valign=\"top\">2015-01-15</th>\n      <th>Group1</th>\n      <td>1.0</td>\n      <td>1.0</td>\n    </tr>\n    <tr>\n      <th>Group2</th>\n      <td>1.0</td>\n      <td>1.0</td>\n    </tr>\n    <tr>\n      <th rowspan=\"2\" valign=\"top\">2015-01-16</th>\n      <th>Group1</th>\n      <td>1.0</td>\n      <td>1.0</td>\n    </tr>\n    <tr>\n      <th>Group2</th>\n      <td>1.0</td>\n      <td>1.0</td>\n    </tr>\n    <tr>\n      <th rowspan=\"2\" valign=\"top\">2015-01-17</th>\n      <th>Group1</th>\n      <td>1.0</td>\n      <td>1.0</td>\n    </tr>\n    <tr>\n      <th>Group2</th>\n      <td>1.0</td>\n      <td>1.0</td>\n    </tr>\n    <tr>\n      <th rowspan=\"2\" valign=\"top\">2015-01-18</th>\n      <th>Group1</th>\n      <td>1.0</td>\n      <td>1.0</td>\n    </tr>\n    <tr>\n      <th>Group2</th>\n      <td>1.0</td>\n      <td>1.0</td>\n    </tr>\n    <tr>\n      <th rowspan=\"2\" valign=\"top\">2015-01-19</th>\n      <th>Group1</th>\n      <td>1.0</td>\n      <td>1.0</td>\n    </tr>\n    <tr>\n      <th>Group2</th>\n      <td>1.0</td>\n      <td>1.0</td>\n    </tr>\n    <tr>\n      <th rowspan=\"2\" valign=\"top\">2015-01-20</th>\n      <th>Group1</th>\n      <td>1.0</td>\n      <td>1.0</td>\n    </tr>\n    <tr>\n      <th>Group2</th>\n      <td>1.0</td>\n      <td>1.0</td>\n    </tr>\n    <tr>\n      <th rowspan=\"2\" valign=\"top\">2015-01-21</th>\n      <th>Group1</th>\n      <td>1.0</td>\n      <td>1.0</td>\n    </tr>\n    <tr>\n      <th>Group2</th>\n      <td>1.0</td>\n      <td>1.0</td>\n    </tr>\n    <tr>\n      <th rowspan=\"2\" valign=\"top\">2015-01-22</th>\n      <th>Group1</th>\n      <td>1.0</td>\n      <td>1.0</td>\n    </tr>\n    <tr>\n      <th>Group2</th>\n      <td>1.0</td>\n      <td>1.0</td>\n    </tr>\n    <tr>\n      <th rowspan=\"2\" valign=\"top\">2015-01-23</th>\n      <th>Group1</th>\n      <td>1.0</td>\n      <td>1.0</td>\n    </tr>\n    <tr>\n      <th>Group2</th>\n      <td>1.0</td>\n      <td>1.0</td>\n    </tr>\n    <tr>\n      <th rowspan=\"2\" valign=\"top\">2015-01-24</th>\n      <th>Group1</th>\n      <td>1.0</td>\n      <td>1.0</td>\n    </tr>\n    <tr>\n      <th>Group2</th>\n      <td>1.0</td>\n      <td>1.0</td>\n    </tr>\n    <tr>\n      <th rowspan=\"2\" valign=\"top\">2015-01-25</th>\n      <th>Group1</th>\n      <td>1.0</td>\n      <td>1.0</td>\n    </tr>\n    <tr>\n      <th>Group2</th>\n      <td>1.0</td>\n      <td>1.0</td>\n    </tr>\n    <tr>\n      <th rowspan=\"2\" valign=\"top\">2015-01-26</th>\n      <th>Group1</th>\n      <td>1.0</td>\n      <td>1.0</td>\n    </tr>\n    <tr>\n      <th>Group2</th>\n      <td>1.0</td>\n      <td>1.0</td>\n    </tr>\n    <tr>\n      <th rowspan=\"2\" valign=\"top\">2015-01-27</th>\n      <th>Group1</th>\n      <td>1.0</td>\n      <td>1.0</td>\n    </tr>\n    <tr>\n      <th>Group2</th>\n      <td>1.0</td>\n      <td>1.0</td>\n    </tr>\n    <tr>\n      <th rowspan=\"2\" valign=\"top\">2015-01-28</th>\n      <th>Group1</th>\n      <td>1.0</td>\n      <td>1.0</td>\n    </tr>\n    <tr>\n      <th>Group2</th>\n      <td>1.0</td>\n      <td>1.0</td>\n    </tr>\n    <tr>\n      <th rowspan=\"2\" valign=\"top\">2015-01-29</th>\n      <th>Group1</th>\n      <td>1.0</td>\n      <td>1.0</td>\n    </tr>\n    <tr>\n      <th>Group2</th>\n      <td>1.0</td>\n      <td>1.0</td>\n    </tr>\n    <tr>\n      <th rowspan=\"2\" valign=\"top\">2015-01-30</th>\n      <th>Group1</th>\n      <td>1.0</td>\n      <td>1.0</td>\n    </tr>\n    <tr>\n      <th>Group2</th>\n      <td>1.0</td>\n      <td>1.0</td>\n    </tr>\n    <tr>\n      <th rowspan=\"2\" valign=\"top\">2015-01-31</th>\n      <th>Group1</th>\n      <td>1.0</td>\n      <td>1.0</td>\n    </tr>\n    <tr>\n      <th>Group2</th>\n      <td>1.0</td>\n      <td>1.0</td>\n    </tr>\n    <tr>\n      <th rowspan=\"2\" valign=\"top\">2015-02-01</th>\n      <th>Group1</th>\n      <td>1.0</td>\n      <td>1.0</td>\n    </tr>\n    <tr>\n      <th>Group2</th>\n      <td>1.0</td>\n      <td>1.0</td>\n    </tr>\n    <tr>\n      <th rowspan=\"2\" valign=\"top\">2015-02-02</th>\n      <th>Group1</th>\n      <td>1.0</td>\n      <td>1.0</td>\n    </tr>\n    <tr>\n      <th>Group2</th>\n      <td>1.0</td>\n      <td>1.0</td>\n    </tr>\n    <tr>\n      <th rowspan=\"2\" valign=\"top\">2015-02-03</th>\n      <th>Group1</th>\n      <td>1.0</td>\n      <td>1.0</td>\n    </tr>\n    <tr>\n      <th>Group2</th>\n      <td>1.0</td>\n      <td>1.0</td>\n    </tr>\n    <tr>\n      <th rowspan=\"2\" valign=\"top\">2015-02-04</th>\n      <th>Group1</th>\n      <td>1.0</td>\n      <td>1.0</td>\n    </tr>\n    <tr>\n      <th>Group2</th>\n      <td>1.0</td>\n      <td>1.0</td>\n    </tr>\n    <tr>\n      <th rowspan=\"2\" valign=\"top\">2015-02-05</th>\n      <th>Group1</th>\n      <td>1.0</td>\n      <td>1.0</td>\n    </tr>\n    <tr>\n      <th>Group2</th>\n      <td>1.0</td>\n      <td>1.0</td>\n    </tr>\n    <tr>\n      <th rowspan=\"2\" valign=\"top\">2015-02-06</th>\n      <th>Group1</th>\n      <td>1.0</td>\n      <td>1.0</td>\n    </tr>\n    <tr>\n      <th>Group2</th>\n      <td>1.0</td>\n      <td>1.0</td>\n    </tr>\n    <tr>\n      <th rowspan=\"2\" valign=\"top\">2015-02-07</th>\n      <th>Group1</th>\n      <td>1.0</td>\n      <td>1.0</td>\n    </tr>\n    <tr>\n      <th>Group2</th>\n      <td>1.0</td>\n      <td>1.0</td>\n    </tr>\n    <tr>\n      <th rowspan=\"2\" valign=\"top\">2015-02-08</th>\n      <th>Group1</th>\n      <td>1.0</td>\n      <td>1.0</td>\n    </tr>\n    <tr>\n      <th>Group2</th>\n      <td>1.0</td>\n      <td>1.0</td>\n    </tr>\n    <tr>\n      <th rowspan=\"2\" valign=\"top\">2015-02-09</th>\n      <th>Group1</th>\n      <td>1.0</td>\n      <td>1.0</td>\n    </tr>\n    <tr>\n      <th>Group2</th>\n      <td>1.0</td>\n      <td>1.0</td>\n    </tr>\n    <tr>\n      <th rowspan=\"2\" valign=\"top\">2015-02-10</th>\n      <th>Group1</th>\n      <td>1.0</td>\n      <td>1.0</td>\n    </tr>\n    <tr>\n      <th>Group2</th>\n      <td>1.0</td>\n      <td>1.0</td>\n    </tr>\n    <tr>\n      <th rowspan=\"2\" valign=\"top\">2015-02-11</th>\n      <th>Group1</th>\n      <td>1.0</td>\n      <td>1.0</td>\n    </tr>\n    <tr>\n      <th>Group2</th>\n      <td>1.0</td>\n      <td>1.0</td>\n    </tr>\n    <tr>\n      <th rowspan=\"2\" valign=\"top\">2015-02-12</th>\n      <th>Group1</th>\n      <td>1.0</td>\n      <td>1.0</td>\n    </tr>\n    <tr>\n      <th>Group2</th>\n      <td>1.0</td>\n      <td>1.0</td>\n    </tr>\n    <tr>\n      <th rowspan=\"2\" valign=\"top\">2015-02-13</th>\n      <th>Group1</th>\n      <td>1.0</td>\n      <td>1.0</td>\n    </tr>\n    <tr>\n      <th>Group2</th>\n      <td>1.0</td>\n      <td>1.0</td>\n    </tr>\n  </tbody>\n</table>\n</div>"
     },
     "execution_count": 9,
     "metadata": {},
     "output_type": "execute_result"
    }
   ],
   "source": [
    "factor_information_coefficient(factor_data=factor_data, group_adjust=False, by_group=True)"
   ],
   "metadata": {
    "collapsed": false,
    "pycharm": {
     "name": "#%%\n"
    }
   }
  },
  {
   "cell_type": "code",
   "execution_count": 10,
   "outputs": [
    {
     "data": {
      "text/plain": "(                       1D        3D\n factor_quantile                    \n 1               -0.005625 -0.016842\n 2               -0.000625 -0.001917\n 3                0.001875  0.005602\n 4                0.004375  0.013158,\n                            1D            3D\n factor_quantile                            \n 1                8.201674e-18  1.189528e-17\n 2                6.203619e-18  6.901915e-18\n 3                1.526303e-17  1.563847e-17\n 4                1.540636e-17  1.268323e-17)"
     },
     "execution_count": 10,
     "metadata": {},
     "output_type": "execute_result"
    }
   ],
   "source": [
    "mean_return_by_quantile(\n",
    "    factor_data=factor_data\n",
    ")"
   ],
   "metadata": {
    "collapsed": false,
    "pycharm": {
     "name": "#%%\n"
    }
   }
  },
  {
   "cell_type": "code",
   "execution_count": null,
   "outputs": [],
   "source": [],
   "metadata": {
    "collapsed": false,
    "pycharm": {
     "name": "#%%\n"
    }
   }
  }
 ],
 "metadata": {
  "kernelspec": {
   "display_name": "Python 3",
   "language": "python",
   "name": "python3"
  },
  "language_info": {
   "codemirror_mode": {
    "name": "ipython",
    "version": 2
   },
   "file_extension": ".py",
   "mimetype": "text/x-python",
   "name": "python",
   "nbconvert_exporter": "python",
   "pygments_lexer": "ipython2",
   "version": "2.7.6"
  }
 },
 "nbformat": 4,
 "nbformat_minor": 0
}