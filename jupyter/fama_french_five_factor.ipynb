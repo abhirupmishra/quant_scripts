{
 "cells": [
  {
   "cell_type": "markdown",
   "metadata": {
    "collapsed": true,
    "pycharm": {
     "name": "#%% md\n"
    }
   },
   "source": [
    "# Fama-French 5 Factor Model"
   ]
  },
  {
   "cell_type": "code",
   "execution_count": 20,
   "outputs": [],
   "source": [
    "import numpy as np\n",
    "import pandas as pd"
   ],
   "metadata": {
    "collapsed": false,
    "pycharm": {
     "name": "#%%\n"
    }
   }
  },
  {
   "cell_type": "code",
   "execution_count": 21,
   "outputs": [],
   "source": [
    "data = pd.read_csv('../data/ff_5_factor_data_daily.csv')\n",
    "data['date'] = pd.to_datetime(data['date'].astype(str), format='%Y%m%d')\n",
    "data = data.set_index(['date'])\n",
    "data.index.freq = pd.infer_freq(data.index)"
   ],
   "metadata": {
    "collapsed": false,
    "pycharm": {
     "name": "#%%\n"
    }
   }
  },
  {
   "cell_type": "code",
   "execution_count": 22,
   "outputs": [
    {
     "data": {
      "text/plain": "            market_minus_rf   SMB   HML   RMW   CMA     RF\ndate                                                      \n1963-07-01            -0.67  0.01 -0.35  0.03  0.11  0.012\n1963-07-02             0.79 -0.31  0.24 -0.08 -0.25  0.012\n1963-07-03             0.63 -0.16 -0.09  0.13 -0.24  0.012\n1963-07-05             0.40  0.09 -0.26  0.07 -0.28  0.012\n1963-07-08            -0.63  0.07 -0.19 -0.27  0.06  0.012\n...                     ...   ...   ...   ...   ...    ...\n2021-12-27             1.22 -0.11  0.28  0.97  0.47  0.000\n2021-12-28            -0.27 -0.41  0.80  0.83  0.21  0.000\n2021-12-29             0.06 -0.01  0.15  0.67 -0.01  0.000\n2021-12-30            -0.15  0.06 -0.38 -0.82 -0.41  0.000\n2021-12-31            -0.31  0.18  0.53  0.34  0.42  0.000\n\n[14728 rows x 6 columns]",
      "text/html": "<div>\n<style scoped>\n    .dataframe tbody tr th:only-of-type {\n        vertical-align: middle;\n    }\n\n    .dataframe tbody tr th {\n        vertical-align: top;\n    }\n\n    .dataframe thead th {\n        text-align: right;\n    }\n</style>\n<table border=\"1\" class=\"dataframe\">\n  <thead>\n    <tr style=\"text-align: right;\">\n      <th></th>\n      <th>market_minus_rf</th>\n      <th>SMB</th>\n      <th>HML</th>\n      <th>RMW</th>\n      <th>CMA</th>\n      <th>RF</th>\n    </tr>\n    <tr>\n      <th>date</th>\n      <th></th>\n      <th></th>\n      <th></th>\n      <th></th>\n      <th></th>\n      <th></th>\n    </tr>\n  </thead>\n  <tbody>\n    <tr>\n      <th>1963-07-01</th>\n      <td>-0.67</td>\n      <td>0.01</td>\n      <td>-0.35</td>\n      <td>0.03</td>\n      <td>0.11</td>\n      <td>0.012</td>\n    </tr>\n    <tr>\n      <th>1963-07-02</th>\n      <td>0.79</td>\n      <td>-0.31</td>\n      <td>0.24</td>\n      <td>-0.08</td>\n      <td>-0.25</td>\n      <td>0.012</td>\n    </tr>\n    <tr>\n      <th>1963-07-03</th>\n      <td>0.63</td>\n      <td>-0.16</td>\n      <td>-0.09</td>\n      <td>0.13</td>\n      <td>-0.24</td>\n      <td>0.012</td>\n    </tr>\n    <tr>\n      <th>1963-07-05</th>\n      <td>0.40</td>\n      <td>0.09</td>\n      <td>-0.26</td>\n      <td>0.07</td>\n      <td>-0.28</td>\n      <td>0.012</td>\n    </tr>\n    <tr>\n      <th>1963-07-08</th>\n      <td>-0.63</td>\n      <td>0.07</td>\n      <td>-0.19</td>\n      <td>-0.27</td>\n      <td>0.06</td>\n      <td>0.012</td>\n    </tr>\n    <tr>\n      <th>...</th>\n      <td>...</td>\n      <td>...</td>\n      <td>...</td>\n      <td>...</td>\n      <td>...</td>\n      <td>...</td>\n    </tr>\n    <tr>\n      <th>2021-12-27</th>\n      <td>1.22</td>\n      <td>-0.11</td>\n      <td>0.28</td>\n      <td>0.97</td>\n      <td>0.47</td>\n      <td>0.000</td>\n    </tr>\n    <tr>\n      <th>2021-12-28</th>\n      <td>-0.27</td>\n      <td>-0.41</td>\n      <td>0.80</td>\n      <td>0.83</td>\n      <td>0.21</td>\n      <td>0.000</td>\n    </tr>\n    <tr>\n      <th>2021-12-29</th>\n      <td>0.06</td>\n      <td>-0.01</td>\n      <td>0.15</td>\n      <td>0.67</td>\n      <td>-0.01</td>\n      <td>0.000</td>\n    </tr>\n    <tr>\n      <th>2021-12-30</th>\n      <td>-0.15</td>\n      <td>0.06</td>\n      <td>-0.38</td>\n      <td>-0.82</td>\n      <td>-0.41</td>\n      <td>0.000</td>\n    </tr>\n    <tr>\n      <th>2021-12-31</th>\n      <td>-0.31</td>\n      <td>0.18</td>\n      <td>0.53</td>\n      <td>0.34</td>\n      <td>0.42</td>\n      <td>0.000</td>\n    </tr>\n  </tbody>\n</table>\n<p>14728 rows × 6 columns</p>\n</div>"
     },
     "execution_count": 22,
     "metadata": {},
     "output_type": "execute_result"
    }
   ],
   "source": [
    "data"
   ],
   "metadata": {
    "collapsed": false,
    "pycharm": {
     "name": "#%%\n"
    }
   }
  },
  {
   "cell_type": "code",
   "execution_count": null,
   "outputs": [],
   "source": [],
   "metadata": {
    "collapsed": false,
    "pycharm": {
     "name": "#%%\n"
    }
   }
  }
 ],
 "metadata": {
  "kernelspec": {
   "display_name": "Python 3",
   "language": "python",
   "name": "python3"
  },
  "language_info": {
   "codemirror_mode": {
    "name": "ipython",
    "version": 2
   },
   "file_extension": ".py",
   "mimetype": "text/x-python",
   "name": "python",
   "nbconvert_exporter": "python",
   "pygments_lexer": "ipython2",
   "version": "2.7.6"
  }
 },
 "nbformat": 4,
 "nbformat_minor": 0
}