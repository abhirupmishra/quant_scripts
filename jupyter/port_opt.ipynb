{
 "cells": [
  {
   "cell_type": "code",
   "execution_count": 1,
   "metadata": {
    "collapsed": true
   },
   "outputs": [],
   "source": [
    "import math\n",
    "\n",
    "import numpy as np\n",
    "import pandas as pd\n",
    "\n",
    "from lib_modules.port_opt import optimize_portfolio, RiskModel"
   ]
  },
  {
   "cell_type": "code",
   "execution_count": 2,
   "outputs": [],
   "source": [
    "assets_idx = ['a', 'b', 'c']\n",
    "ret = pd.Series(data=[0.0260023, 0.008100891, 0.073774971], index=assets_idx)\n",
    "sigma = [[0.017087987, 0.003298885, 0.001224849],\n",
    "         [0.003298885, 0.005900944, 0.004488271],\n",
    "         [0.001224849, 0.004488271, 0.063000818]]\n",
    "risk_model = RiskModel.from_matrix(asset_cov=pd.DataFrame(data=sigma, index=assets_idx, columns=assets_idx))"
   ],
   "metadata": {
    "collapsed": false,
    "pycharm": {
     "name": "#%%\n"
    }
   }
  },
  {
   "cell_type": "code",
   "execution_count": 3,
   "outputs": [
    {
     "data": {
      "text/plain": "          a         b         c\na  0.017088  0.003299  0.001225\nb  0.003299  0.005901  0.004488\nc  0.001225  0.004488  0.063001",
      "text/html": "<div>\n<style scoped>\n    .dataframe tbody tr th:only-of-type {\n        vertical-align: middle;\n    }\n\n    .dataframe tbody tr th {\n        vertical-align: top;\n    }\n\n    .dataframe thead th {\n        text-align: right;\n    }\n</style>\n<table border=\"1\" class=\"dataframe\">\n  <thead>\n    <tr style=\"text-align: right;\">\n      <th></th>\n      <th>a</th>\n      <th>b</th>\n      <th>c</th>\n    </tr>\n  </thead>\n  <tbody>\n    <tr>\n      <th>a</th>\n      <td>0.017088</td>\n      <td>0.003299</td>\n      <td>0.001225</td>\n    </tr>\n    <tr>\n      <th>b</th>\n      <td>0.003299</td>\n      <td>0.005901</td>\n      <td>0.004488</td>\n    </tr>\n    <tr>\n      <th>c</th>\n      <td>0.001225</td>\n      <td>0.004488</td>\n      <td>0.063001</td>\n    </tr>\n  </tbody>\n</table>\n</div>"
     },
     "execution_count": 3,
     "metadata": {},
     "output_type": "execute_result"
    }
   ],
   "source": [
    "risk_model()"
   ],
   "metadata": {
    "collapsed": false,
    "pycharm": {
     "name": "#%%\n"
    }
   }
  },
  {
   "cell_type": "code",
   "execution_count": 4,
   "outputs": [],
   "source": [
    "variance, weights = optimize_portfolio(risk_model=risk_model)\n",
    "port_ret = float(np.linalg.multi_dot([weights.transpose(), ret]))"
   ],
   "metadata": {
    "collapsed": false,
    "pycharm": {
     "name": "#%%\n"
    }
   }
  },
  {
   "cell_type": "code",
   "execution_count": 5,
   "outputs": [
    {
     "data": {
      "text/plain": "a    0.159770\nb    0.814893\nc    0.025337\nName: weights, dtype: float64"
     },
     "metadata": {},
     "output_type": "display_data"
    }
   ],
   "source": [
    "display(weights)"
   ],
   "metadata": {
    "collapsed": false,
    "pycharm": {
     "name": "#%%\n"
    }
   }
  },
  {
   "cell_type": "code",
   "execution_count": 6,
   "outputs": [
    {
     "name": "stdout",
     "output_type": "stream",
     "text": [
      "Portfolio Risk = 7.3820%\n",
      "Expected Return = 1.2625%\n"
     ]
    }
   ],
   "source": [
    "print(f\"Portfolio Risk = {math.sqrt(variance):.4%}\")\n",
    "print(f\"Expected Return = {port_ret:.4%}\")"
   ],
   "metadata": {
    "collapsed": false,
    "pycharm": {
     "name": "#%%\n"
    }
   }
  },
  {
   "cell_type": "code",
   "execution_count": null,
   "outputs": [],
   "source": [],
   "metadata": {
    "collapsed": false,
    "pycharm": {
     "name": "#%%\n"
    }
   }
  }
 ],
 "metadata": {
  "kernelspec": {
   "display_name": "Python 3",
   "language": "python",
   "name": "python3"
  },
  "language_info": {
   "codemirror_mode": {
    "name": "ipython",
    "version": 2
   },
   "file_extension": ".py",
   "mimetype": "text/x-python",
   "name": "python",
   "nbconvert_exporter": "python",
   "pygments_lexer": "ipython2",
   "version": "2.7.6"
  }
 },
 "nbformat": 4,
 "nbformat_minor": 0
}